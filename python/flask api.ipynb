{
 "cells": [
  {
   "cell_type": "code",
   "execution_count": 6,
   "metadata": {
    "collapsed": true
   },
   "outputs": [],
   "source": [
    "from flask import Flask, request\n",
    "from flask_cors import CORS, cross_origin\n",
    "from flask_restful import Resource, Api\n",
    "from json import dumps\n",
    "from flask_jsonpify import jsonify\n",
    "import json\n",
    "import pandas as pd\n",
    "import pickle"
   ]
  },
  {
   "cell_type": "code",
   "execution_count": null,
   "metadata": {
    "collapsed": true
   },
   "outputs": [],
   "source": [
    "def hackathon_json(response):\n",
    "    tool_list=[]\n",
    "    for i in response[\"Skills\"]:\n",
    "        tool_list.append(i[\"skill\"])\n",
    "        \n",
    "    df=pd.read_csv(\"/Users/hemanth/Documents/FullStack/Linkedin/data/hackathon.csv\")\n",
    "    result=pd.DataFrame(columns=df.columns)\n",
    "    df[\"Tools\"]=df[\"Tools\"].str.split(\",\")\n",
    "    index=[]\n",
    "    for ind,i in enumerate(df[\"Tools\"]):\n",
    "        for k in tool_list:\n",
    "            if(k in i):\n",
    "                index.append(ind)\n",
    "                \n",
    "    result=result.append(df.loc[index])\n",
    "    result=result[~result.index.duplicated(keep='first')]\n",
    "    result=result[[\"Hackathon_Name\",\"Website\",\"Link\"]]\n",
    "    result=result.reset_index(drop=True)\n",
    "    result.columns = ['name', 'website','Link']\n",
    "    \n",
    "    data=result.to_json(orient='index')\n",
    "    data=json.loads(data)\n",
    "    \n",
    "    \n",
    "    with open(path+'Suggestion/hackathon.json','w') as f:\n",
    "        json.dump(data,f)"
   ]
  },
  {
   "cell_type": "code",
   "execution_count": null,
   "metadata": {
    "scrolled": false
   },
   "outputs": [
    {
     "name": "stderr",
     "output_type": "stream",
     "text": [
      " * Running on http://127.0.0.1:5001/ (Press CTRL+C to quit)\n",
      "127.0.0.1 - - [02/Jun/2019 17:20:56] \"GET /Profiles/Suggestion/ HTTP/1.1\" 200 -\n",
      "127.0.0.1 - - [02/Jun/2019 17:20:57] \"GET /Hackathons/Suggestion/ HTTP/1.1\" 200 -\n",
      "127.0.0.1 - - [02/Jun/2019 17:21:05] \"GET /Hackathons/Suggestion/ HTTP/1.1\" 200 -\n",
      "127.0.0.1 - - [02/Jun/2019 17:21:13] \"GET /Courses/Suggestion/ HTTP/1.1\" 200 -\n",
      "127.0.0.1 - - [02/Jun/2019 17:21:46] \"GET /Hackathons/Suggestion/ HTTP/1.1\" 200 -\n"
     ]
    }
   ],
   "source": [
    "app = Flask(__name__)\n",
    "api = Api(app)\n",
    "\n",
    "CORS(app)\n",
    "\n",
    "\n",
    "path='/Users/hemanth/Documents/FullStack/Linkedin/'\n",
    "\n",
    "@app.route(\"/\")\n",
    "def hello():\n",
    "    return jsonify({'text':'Hello World!'})\n",
    "\n",
    "    \n",
    "def new_user_data(user_id,first_name,last_name):\n",
    "    data={\n",
    "  \"name\":first_name+\" \"+last_name,\n",
    "  \"user_id\":user_id,\n",
    "  \"Profession\":\"Designer\",\n",
    "  \"Phone_Number\": \"7253046164\",\n",
    "  \"Email_id\":\"virathmanth22@gmail.com\",\n",
    "  \"Place\":\"Bengaluru\",\n",
    "  \"Skills\":[{\"skill\":\"Machine Larning\",\"percentage\":\"90%\"},{\"skill\":\"Java2\",\"percentage\":\"60%\"}],\n",
    "  \"Languages\":[{\"skill\":\"test1\",\"percentage\":\"90%\"}],\n",
    "  \"Courses\":[{\"skill\":\"ml\",\"percentage\":\"https://www.quora.com/\"}],\n",
    "  \"Projects\":[{\"place\":\"test1\",\"dur\":\"2012-2019\",\"description\":\"check\"}],\n",
    "  \"Education\":[{\"place\":\"iit\",\"dur\":\"2012-2020\",\"description\":\"check\"}],\n",
    "  \"Work\":[{\"place\":\"societe\",\"dur\":\"2012-2021\",\"description\":\"check\"}]\n",
    "}\n",
    "\n",
    "    return data\n",
    "\n",
    "\n",
    "\n",
    "def get_course_link(course_name):\n",
    "    return \"https://www.quora.com/\"\n",
    "\n",
    "class Employees_Name(Resource):\n",
    "    def get(self):\n",
    "        \n",
    "        name=request.args.get('user', '')\n",
    "        with open(path+'data/'+name+'.json') as f:\n",
    "            result=json.load(f)\n",
    "        return result\n",
    "        \n",
    "@app.route(\"/Profiles_Post/\", methods=['POST'])\n",
    "def post_by_employee_name(): \n",
    "\n",
    "    data=json.loads(str(request.data))\n",
    "    name=data[\"user_id\"]\n",
    "    with open(path+'data/'+name+'.json','w') as f:\n",
    "            result=json.dump(data,f)\n",
    "    \n",
    "    name=request.args.get('name', '')\n",
    "    return jsonify(data)\n",
    "\n",
    "\n",
    "@app.route(\"/Profiles/new_user\", methods=['GET'])\n",
    "def new_user(): \n",
    "\n",
    "    user_id=request.args.get('user_id', '')\n",
    "    first_name=request.args.get('first_name', '')\n",
    "    last_name=request.args.get('last_name', '')\n",
    "    data=new_user_data(user_id,first_name,last_name)\n",
    "    with open(path+'data/'+user_id+'.json','w') as f:\n",
    "            result=json.dump(data,f)\n",
    "    \n",
    "    return jsonify(data)\n",
    "\n",
    "\n",
    "@app.route(\"/Courses/\", methods=['GET'])\n",
    "def course_link(): \n",
    "    \n",
    "    course_name=request.args.get('course_name', '')\n",
    "    course_link=get_course_link(course_name)    \n",
    "    return course_link\n",
    "\n",
    "\n",
    "@app.route(\"/Profiles/Suggestion/\", methods=['GET'])\n",
    "def Profile_Suggestion(): \n",
    "\n",
    "    with open(path+'Suggestion/profiles.json') as f:\n",
    "        result=json.load(f)\n",
    "        \n",
    "    return jsonify(result)\n",
    "\n",
    "\n",
    "@app.route(\"/Hackathons/Suggestion/\", methods=['GET'])\n",
    "def Hackathon_Suggestion(): \n",
    "\n",
    "    with open(path+'Suggestion/hackathon.json') as f:\n",
    "        result=json.load(f)\n",
    "         \n",
    "    return jsonify(result)\n",
    "\n",
    "@app.route(\"/Courses/Suggestion/\", methods=['GET'])\n",
    "def Courses_Suggestion(): \n",
    "\n",
    "    with open(path+'Suggestion/words.pkl') as f:\n",
    "        result=pickle.load(f)\n",
    "         \n",
    "    return jsonify(result)\n",
    "\n",
    "@app.route(\"/Submit/\", methods=['POST'])\n",
    "def profile_submit(): \n",
    "    data=json.loads(str(request.data))\n",
    "    name=data[\"user_id\"]\n",
    "\n",
    "    hackathon_json(data)\n",
    "    return \"Submit_Done\"\n",
    "\n",
    "\n",
    "api.add_resource(Employees_Name, '/Profiles') # Route_3\n",
    "\n",
    "\n",
    "if __name__ == '__main__':\n",
    "   app.run(port=5001)\n"
   ]
  },
  {
   "cell_type": "code",
   "execution_count": null,
   "metadata": {
    "collapsed": true
   },
   "outputs": [],
   "source": []
  },
  {
   "cell_type": "code",
   "execution_count": null,
   "metadata": {
    "collapsed": true
   },
   "outputs": [],
   "source": []
  },
  {
   "cell_type": "code",
   "execution_count": null,
   "metadata": {
    "collapsed": true
   },
   "outputs": [],
   "source": []
  }
 ],
 "metadata": {
  "kernelspec": {
   "display_name": "Python 2",
   "language": "python",
   "name": "python2"
  },
  "language_info": {
   "codemirror_mode": {
    "name": "ipython",
    "version": 2
   },
   "file_extension": ".py",
   "mimetype": "text/x-python",
   "name": "python",
   "nbconvert_exporter": "python",
   "pygments_lexer": "ipython2",
   "version": "2.7.15"
  }
 },
 "nbformat": 4,
 "nbformat_minor": 2
}
