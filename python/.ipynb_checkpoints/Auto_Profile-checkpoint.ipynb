{
 "cells": [
  {
   "cell_type": "code",
   "execution_count": 1,
   "metadata": {
    "collapsed": true
   },
   "outputs": [],
   "source": [
    "import pandas as pd\n",
    "import numpy as np\n",
    "import math\n",
    "import random\n",
    "import json"
   ]
  },
  {
   "cell_type": "code",
   "execution_count": 4,
   "metadata": {
    "collapsed": true
   },
   "outputs": [],
   "source": [
    "path=\"/Users/hemanth/Desktop/Linkdin/\""
   ]
  },
  {
   "cell_type": "code",
   "execution_count": 5,
   "metadata": {},
   "outputs": [],
   "source": [
    "f=open(\"/Users/hemanth/Desktop/Linkdin/Auto_Profile/Skills.txt\",\"r\")\n",
    "t=f.read().splitlines()\n",
    "skills=[]\n",
    "for i in t:\n",
    "    skills.append(i.split(','))\n",
    "    \n",
    "    \n",
    "f=open(\"/Users/hemanth/Desktop/Linkdin/Auto_Profile/courses.txt\",\"r\")\n",
    "t=f.read().splitlines()\n",
    "courses=[]\n",
    "for i in t:\n",
    "    courses.append(i.split(','))\n",
    "    \n",
    "with open(path+'Auto_Profile/course_links.json') as f:\n",
    "    course_links=json.load(f)\n",
    "\n",
    "    \n",
    "f=open(\"/Users/hemanth/Desktop/Linkdin/Auto_Profile/positions.txt\",\"r\")\n",
    "positions=f.read().splitlines()\n",
    "\n",
    "f=open(\"/Users/hemanth/Desktop/Linkdin/Auto_Profile/names.txt\",\"r\")\n",
    "names=f.read().splitlines()\n",
    "\n",
    "f=open(\"/Users/hemanth/Desktop/Linkdin/Auto_Profile/comapnies.txt\",\"r\")\n",
    "comapnies=f.read().splitlines()\n",
    "\n",
    "f=open(\"/Users/hemanth/Desktop/Linkdin/Auto_Profile/collages.txt\",\"r\")\n",
    "collages=f.read().splitlines()\n",
    "\n",
    "f=open(\"/Users/hemanth/Desktop/Linkdin/Auto_Profile/branches.txt\",\"r\")\n",
    "branches=f.read().splitlines()\n",
    "\n",
    "f=open(\"/Users/hemanth/Desktop/Linkdin/Auto_Profile/places.txt\",\"r\")\n",
    "places=f.read().splitlines()\n",
    "\n",
    "f=open(\"/Users/hemanth/Desktop/Linkdin/Auto_Profile/Langugues.txt\",\"r\")\n",
    "Lang=f.read().splitlines()"
   ]
  },
  {
   "cell_type": "code",
   "execution_count": 6,
   "metadata": {
    "collapsed": true
   },
   "outputs": [],
   "source": [
    "def get_skills(skills,position):\n",
    "    skill_dict={}\n",
    "    for i in range(len(skills)):\n",
    "        if(i==position):\n",
    "            for j in skills[i]:\n",
    "                pro=random.randint(0,100)\n",
    "                if(pro>65):\n",
    "                    skill_dict[j]=random.randint(40,100)\n",
    "\n",
    "        else:\n",
    "            for j in skills[i]:\n",
    "                pro=random.randint(0,100)\n",
    "                if(pro>90):\n",
    "                    if(j not in skill_dict.keys() ):\n",
    "                         skill_dict[j]=random.randint(40,70)\n",
    "                            \n",
    "        \n",
    "    keys=skill_dict.keys()\n",
    "    values=skill_dict.values()\n",
    "    \n",
    "    skills_=[]\n",
    "    for i in range(len(keys)):\n",
    "        skills_.append({\"skill\" : keys[i],\"percentage\":str(values[i])+\"%\"})\n",
    "        \n",
    "    return skills_"
   ]
  },
  {
   "cell_type": "code",
   "execution_count": 7,
   "metadata": {
    "collapsed": true
   },
   "outputs": [],
   "source": [
    "def get_lang(Lang):\n",
    "    Lang_dict={}\n",
    "    for i in range(len(Lang)):\n",
    "        pro=random.randint(40,100)\n",
    "        if(pro>83):\n",
    "            Lang_dict[Lang[i]]=random.randint(40,90)\n",
    "\n",
    "        Lang_dict[\"English\"]=random.randint(50,100)\n",
    "\n",
    "\n",
    "\n",
    "    keys=Lang_dict.keys()\n",
    "    values=Lang_dict.values()\n",
    "\n",
    "    skills_=[]\n",
    "    for i in range(len(keys)):\n",
    "        skills_.append({\"skill\" : keys[i],\"percentage\":str(values[i])+\"%\"})\n",
    "\n",
    "    return skills_"
   ]
  },
  {
   "cell_type": "code",
   "execution_count": 8,
   "metadata": {
    "collapsed": true
   },
   "outputs": [],
   "source": [
    "def get_course(courses,position):\n",
    "    skill_dict={}\n",
    "    for i in range(len(courses)):\n",
    "        if(i==position):\n",
    "            for j in range(len(courses[i])):\n",
    "                pro=random.randint(0,100)\n",
    "                if(pro>68):\n",
    "                    skill_dict[courses[i][j]]=course_links[courses[i][j]]\n",
    "\n",
    "        else:\n",
    "            for j in range(len(courses[i])):\n",
    "                pro=random.randint(0,100)\n",
    "                if(pro>85):\n",
    "                    if(j not in skill_dict.keys() ):\n",
    "                         skill_dict[courses[i][j]]=course_links[courses[i][j]]\n",
    "                            \n",
    "        \n",
    "    keys=skill_dict.keys()\n",
    "    values=skill_dict.values()\n",
    "    \n",
    "    skills_=[]\n",
    "    for i in range(len(keys)):\n",
    "        skills_.append({\"skill\" : keys[i],\"link\" :values[i] })\n",
    "        \n",
    "    return skills_"
   ]
  },
  {
   "cell_type": "code",
   "execution_count": null,
   "metadata": {
    "collapsed": true
   },
   "outputs": [],
   "source": []
  },
  {
   "cell_type": "code",
   "execution_count": 10,
   "metadata": {
    "collapsed": true
   },
   "outputs": [],
   "source": [
    "def get_work():\n",
    "    work=random.randint(0,10)\n",
    "    if(work>9):\n",
    "        work=random.randint(10,15)\n",
    "    \n",
    "    return work"
   ]
  },
  {
   "cell_type": "code",
   "execution_count": 11,
   "metadata": {
    "collapsed": true
   },
   "outputs": [],
   "source": [
    "def get_education(work_exp):\n",
    "    education=random.randint(0,len(collages)-1)\n",
    "    branch=random.randint(0,len(branches)-1)\n",
    "    \n",
    "    end=2019-work_exp\n",
    "    start=end-4\n",
    "    dur=str(start)+\"-\"+str(end)\n",
    "    edu=[{\"place\":collages[education],\"dur\":dur,\"description\":branches[branch]}]\n",
    "    return edu"
   ]
  },
  {
   "cell_type": "code",
   "execution_count": 12,
   "metadata": {
    "collapsed": true
   },
   "outputs": [],
   "source": [
    "def get_work_place(work_exp):\n",
    "    if(work_exp==0):\n",
    "        return []\n",
    "    \n",
    "    if(work_exp<4):\n",
    "        company=random.randint(0,len(comapnies)-1)\n",
    "        end=2019\n",
    "        start=end-work_exp\n",
    "        dur=str(start)+\"-\"+str(end)\n",
    "        work_=[{\"place\":comapnies[company],\"dur\":dur,\"description\":\"Lorem ipsum dolor sit amet, consectetur adipiscing elit, sed do eiusmod tempor incididunt ut labore et dolore magna aliqua.Ut enim ad minim veniam, quis nostrud exercitation ullamco laboris nisi ut aliquip ex ea commodo consequat. Duis aute irure dolor in reprehenderit in voluptate velit esse cillum dolore eu fugiat nulla pariatur. Excepteur sint occaecat cupidatat non proident, sunt in culpa qui officia deserunt mollit anim id est laborum.\"}]\n",
    "\n",
    "    else:\n",
    "        company1=random.randint(0,len(comapnies)-1)\n",
    "        company2=company1\n",
    "        while(company1==company2):\n",
    "            company2=random.randint(0,len(comapnies)-1)\n",
    "\n",
    "        end1=2019\n",
    "        start1=end1-(work_exp/2)\n",
    "\n",
    "        dur1=str(start1)+\"-\"+str(end1)\n",
    "\n",
    "        end2=start1\n",
    "        start2=2019-work_exp\n",
    "        dur2=str(start2)+\"-\"+str(end2)\n",
    "\n",
    "\n",
    "        work_=[{\"place\":comapnies[company1],\"dur\":dur1,\"description\":\"Lorem ipsum dolor sit amet, consectetur adipiscing elit, sed do eiusmod tempor incididunt ut labore et dolore magna aliqua.Ut enim ad minim veniam, quis nostrud exercitation ullamco laboris nisi ut aliquip ex ea commodo consequat. Duis aute irure dolor in reprehenderit in voluptate velit esse cillum dolore eu fugiat nulla pariatur. Excepteur sint occaecat cupidatat non proident, sunt in culpa qui officia deserunt mollit anim id est laborum.\"},\n",
    "              {\"place\":comapnies[company2],\"dur\":dur2,\"description\":\"Lorem ipsum dolor sit amet, consectetur adipiscing elit, sed do eiusmod tempor incididunt ut labore et dolore magna aliqua.Ut enim ad minim veniam, quis nostrud exercitation ullamco laboris nisi ut aliquip ex ea commodo consequat. Duis aute irure dolor in reprehenderit in voluptate velit esse cillum dolore eu fugiat nulla pariatur. Excepteur sint occaecat cupidatat non proident, sunt in culpa qui officia deserunt mollit anim id est laborum.\"}]\n",
    "    \n",
    "    return work_"
   ]
  },
  {
   "cell_type": "code",
   "execution_count": 13,
   "metadata": {
    "collapsed": true
   },
   "outputs": [],
   "source": [
    "Phone_Number=\"1234567890\"\n",
    "Email=\"test@gmail.com\""
   ]
  },
  {
   "cell_type": "code",
   "execution_count": 14,
   "metadata": {
    "collapsed": true
   },
   "outputs": [],
   "source": [
    "def get_profile():\n",
    "    position=random.randint(0,len(positions)-1)\n",
    "    place=random.randint(0,len(places)-1)\n",
    "\n",
    "    profile_json={}\n",
    "    profile_json[\"Profession\"]=positions[position]\n",
    "    profile_json[\"Place\"]=places[place]\n",
    "    profile_json[\"Phone_Number\"]=Phone_Number\n",
    "    profile_json[\"Email_id\"]=Email\n",
    "    profile_json[\"Skills\"]=get_skills(skills,position)\n",
    "    profile_json[\"Languages\"]=get_lang(Lang)\n",
    "    profile_json[\"Courses\"]=get_course(courses,position)\n",
    "    profile_json[\"Work_Experience\"]=get_work()\n",
    "    profile_json[\"Projects\"]=[{\"place\":\"Default\",\"dur\":\"Mar'10-Jul'11\",\"description\":\"Lorem ipsum dolor sit amet, consectetur adipiscing elit, sed do eiusmod tempor incididunt ut labore et dolore magna aliqua.Ut enim ad minim veniam, quis nostrud exercitation ullamco laboris nisi ut aliquip ex ea commodo consequat. Duis aute irure dolor in reprehenderit in voluptate velit esse cillum dolore eu fugiat nulla pariatur. Excepteur sint occaecat cupidatat non proident, sunt in culpa qui officia deserunt mollit anim id est laborum.\"},\n",
    "                             {\"place\":\"Default\",\"dur\":\"Dec'13-Jan'14\",\"description\":\"Lorem ipsum dolor sit amet, consectetur adipiscing elit, sed do eiusmod tempor incididunt ut labore et dolore magna aliqua.Ut enim ad minim veniam, quis nostrud exercitation ullamco laboris nisi ut aliquip ex ea commodo consequat. Duis aute irure dolor in reprehenderit in voluptate velit esse cillum dolore eu fugiat nulla pariatur. Excepteur sint occaecat cupidatat non proident, sunt in culpa qui officia deserunt mollit anim id est laborum.\"}]\n",
    "    profile_json[\"Education\"]=get_education(profile_json[\"Work_Experience\"])\n",
    "    profile_json[\"Work\"]=get_work_place(profile_json[\"Work_Experience\"])\n",
    "    \n",
    "    return profile_json"
   ]
  },
  {
   "cell_type": "code",
   "execution_count": 15,
   "metadata": {
    "collapsed": true,
    "scrolled": true
   },
   "outputs": [],
   "source": [
    "path='/Users/hemanth/Desktop/Linkdin/'\n",
    "for i in range(len(names)):\n",
    "    profile=get_profile()\n",
    "    profile[\"name\"]=names[i]\n",
    "    profile[\"user_id\"]=\"user_\"+str(i)\n",
    "    \n",
    "    with open(path+'data/'+\"user_\"+str(i)+'.json','w') as f:\n",
    "        result=json.dump(profile,f)"
   ]
  },
  {
   "cell_type": "code",
   "execution_count": null,
   "metadata": {
    "collapsed": true
   },
   "outputs": [],
   "source": []
  }
 ],
 "metadata": {
  "kernelspec": {
   "display_name": "Python 2",
   "language": "python",
   "name": "python2"
  },
  "language_info": {
   "codemirror_mode": {
    "name": "ipython",
    "version": 2
   },
   "file_extension": ".py",
   "mimetype": "text/x-python",
   "name": "python",
   "nbconvert_exporter": "python",
   "pygments_lexer": "ipython2",
   "version": "2.7.14"
  }
 },
 "nbformat": 4,
 "nbformat_minor": 2
}
