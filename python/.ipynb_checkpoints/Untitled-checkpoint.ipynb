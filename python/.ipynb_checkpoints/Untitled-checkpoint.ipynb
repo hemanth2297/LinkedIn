{
 "cells": [
  {
   "cell_type": "code",
   "execution_count": null,
   "metadata": {
    "collapsed": true
   },
   "outputs": [],
   "source": [
    "import json"
   ]
  },
  {
   "cell_type": "code",
   "execution_count": 1,
   "metadata": {
    "collapsed": true
   },
   "outputs": [],
   "source": [
    "def about():\n",
    "    nodeList = request.get_json()\n",
    "    datalist=[]\n",
    "    json_data=json.dumps({})\n",
    "    for node in nodeList:\n",
    "        print(node['markText'])\n",
    "        val=node['markText']\n",
    "    # print(node['markText'])\n",
    "        url = \"https://www.linkedin.com/learning/search?keywords=\"+val\n",
    "        print(url)\n",
    "        driver = webdriver.Firefox()\n",
    "        driver.get(str(url))\n",
    "        text = driver.page_source\n",
    "        driver.close()\n",
    "        soup = BeautifulSoup(text,'html.parser')\n",
    "        data = soup.findAll('li',attrs={'class':'feed-card feed search-result-card ember-view'})\n",
    "        print(len(data))\n",
    "\n",
    "        for div in data:\n",
    "           a = div.findAll('a',attrs={'class':'entity-link__link ember-view'})\n",
    "           # nots = div.findAll('span',attrs={'class':'card-title__text'})\n",
    "           links={}\n",
    "           print(len(a))\n",
    "           # print(len(nots))\n",
    "           # for a in link:\n",
    "           # links['act_link']=a[0]['href']\n",
    "           # links['cor_link']=a[1]['href']\n",
    "           n = div.find('span',attrs={'class':'card-title__text'})\n",
    "           links['name'] = n.text\n",
    "           # print(links['act_link'])\n",
    "           print(links['name'])\n",
    "           datalist.append(links)       \n",
    "               # json_data = ({})\n",
    "    return  jsonify(datalist)"
   ]
  },
  {
   "cell_type": "code",
   "execution_count": 6,
   "metadata": {
    "collapsed": true
   },
   "outputs": [],
   "source": [
    "from selenium import webdriver\n",
    "from bs4 import BeautifulSoup"
   ]
  },
  {
   "cell_type": "code",
   "execution_count": 7,
   "metadata": {},
   "outputs": [
    {
     "name": "stdout",
     "output_type": "stream",
     "text": [
      "https://www.linkedin.com/learning/search?keywords=python\n"
     ]
    }
   ],
   "source": [
    "url = \"https://www.linkedin.com/learning/search?keywords=\"+\"python\"\n",
    "print(url)\n",
    "driver = webdriver.Firefox()\n",
    "driver.get(str(url))\n",
    "text = driver.page_source\n",
    "driver.close()\n",
    "soup = BeautifulSoup(text,'html.parser')\n",
    "data = soup.findAll('li',attrs={'class':'feed-card feed search-result-card ember-view'})"
   ]
  },
  {
   "cell_type": "code",
   "execution_count": 8,
   "metadata": {},
   "outputs": [
    {
     "name": "stdout",
     "output_type": "stream",
     "text": [
      "10\n"
     ]
    }
   ],
   "source": [
    "print(len(data))"
   ]
  },
  {
   "cell_type": "code",
   "execution_count": 13,
   "metadata": {},
   "outputs": [
    {
     "name": "stdout",
     "output_type": "stream",
     "text": [
      "2\n",
      "Python Essential Training\n",
      "2\n",
      "Python Statistics Essential Training\n",
      "2\n",
      "Python for Data Science Essential Training\n",
      "0\n",
      "0\n",
      "0\n",
      "0\n",
      "0\n",
      "0\n",
      "0\n"
     ]
    }
   ],
   "source": [
    "\n",
    "datalist=[]\n",
    "for div in data:\n",
    "    a = div.findAll('a',attrs={'class':'entity-link__link ember-view'})\n",
    "    links={}\n",
    "    print(len(a))\n",
    "    print(len(nots))\n",
    "    for a in link:\n",
    "        links['act_link']=a[0]['href']\n",
    "        links['cor_link']=a[1]['href']\n",
    "    n = div.find('span',attrs={'class':'card-title__text'})\n",
    "    nots = div.findAll('span',attrs={'class':'card-title__text'})\n",
    "    if(n):\n",
    "        links['name'] = n.text\n",
    "       # print(links['act_link'])\n",
    "        print(links['name'])\n",
    "        datalist.append(links)       \n",
    "       # json_data = ({})\n",
    "#     return  jsonify(datalist)"
   ]
  },
  {
   "cell_type": "code",
   "execution_count": 12,
   "metadata": {},
   "outputs": [
    {
     "data": {
      "text/plain": [
       "[{'name': u'Python Essential Training'},\n",
       " {'name': u'Python Statistics Essential Training'},\n",
       " {'name': u'Python for Data Science Essential Training'}]"
      ]
     },
     "execution_count": 12,
     "metadata": {},
     "output_type": "execute_result"
    }
   ],
   "source": [
    "datalist"
   ]
  },
  {
   "cell_type": "code",
   "execution_count": null,
   "metadata": {
    "collapsed": true
   },
   "outputs": [],
   "source": []
  }
 ],
 "metadata": {
  "kernelspec": {
   "display_name": "Python 2",
   "language": "python",
   "name": "python2"
  },
  "language_info": {
   "codemirror_mode": {
    "name": "ipython",
    "version": 2
   },
   "file_extension": ".py",
   "mimetype": "text/x-python",
   "name": "python",
   "nbconvert_exporter": "python",
   "pygments_lexer": "ipython2",
   "version": "2.7.14"
  }
 },
 "nbformat": 4,
 "nbformat_minor": 2
}
