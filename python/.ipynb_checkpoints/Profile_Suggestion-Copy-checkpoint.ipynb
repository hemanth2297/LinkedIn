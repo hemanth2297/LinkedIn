{
 "cells": [
  {
   "cell_type": "code",
   "execution_count": 97,
   "metadata": {
    "collapsed": true
   },
   "outputs": [],
   "source": [
    "import pandas as pd\n",
    "import numpy as np\n",
    "import math\n",
    "import random\n",
    "import json\n",
    "import glob,os\n",
    "from flask import Flask, request\n",
    "from flask_cors import CORS, cross_origin\n",
    "from flask_restful import Resource, Api\n",
    "from json import dumps\n",
    "from flask_jsonpify import jsonify\n",
    "import json\n",
    "import pandas as pd\n",
    "import pickle\n",
    "from __future__ import division\n"
   ]
  },
  {
   "cell_type": "code",
   "execution_count": 98,
   "metadata": {
    "collapsed": true
   },
   "outputs": [],
   "source": [
    "path='/Users/hemanth/Desktop/Linkdin/'"
   ]
  },
  {
   "cell_type": "code",
   "execution_count": 145,
   "metadata": {},
   "outputs": [],
   "source": [
    "def df_return(skill,user_id,years,rating):\n",
    "    li=[]\n",
    "    li.append([user_id,skill+str(years),np.sqrt(rating)])\n",
    "    for i in range(3):\n",
    "        rating=rating-0.7\n",
    "        li.append([user_id,skill+str(years-i-1),np.sqrt(rating)])\n",
    "        li.append([user_id,skill+str(years+i+1),np.sqrt(rating)])\n",
    "        \n",
    "    return li\n",
    "\n",
    "\n",
    "def df_profession(skill,user_id,num):\n",
    "    \n",
    "    li=[]\n",
    "    li.append([user_id,str(skill),np.sqrt(num)])\n",
    "        \n",
    "    return li\n",
    "\n",
    "\n",
    "def df_skill(skills,user_id,num):\n",
    "    li=[]\n",
    "    for i in range(len(skills)):\n",
    "        li.append([user_id,str(skills[i][\"skill\"]),np.sqrt(num)*(int(str(skills[i][\"percentage\"])[0:2])/100)])\n",
    "        \n",
    "    return li\n",
    "\n",
    "def df_course(skills,user_id,num):\n",
    "    li=[]\n",
    "    for i in range(len(skills)):\n",
    "        li.append([user_id,str(skills[i][\"skill\"]),np.sqrt(num)])\n",
    "        \n",
    "    return li\n",
    "\n",
    "def df_work(skills,user_id,num):\n",
    "    li=[]\n",
    "    for i in range(len(skills)):\n",
    "        li.append([user_id,str(skills[i][\"place\"]),np.sqrt(num)])\n",
    "        \n",
    "    return li\n",
    "\n",
    "def df_edu(skills,user_id,num):\n",
    "    li=[]\n",
    "    for i in range(len(skills)):\n",
    "        li.append([user_id,str(skills[i][\"place\"]),np.sqrt(num)])\n",
    "        li.append([user_id,str(skills[i][\"description\"]),np.sqrt(num)])\n",
    "        \n",
    "    return li"
   ]
  },
  {
   "cell_type": "code",
   "execution_count": 156,
   "metadata": {},
   "outputs": [],
   "source": [
    "def get_df():\n",
    "    users_2=os.listdir(path+\"/data/\")\n",
    "    users=[]\n",
    "    for i in users_2:\n",
    "        users.append(i[:-5])\n",
    "        \n",
    "\n",
    "    \n",
    "    \n",
    "    df_li=[]\n",
    "    course_df=[]\n",
    "    for i in users:\n",
    "        with open(path+'data/'+i+'.json') as f:\n",
    "            result=json.load(f)\n",
    "\n",
    "        user_id=i\n",
    "        df_li.extend(df_return(\"Work_Experience\",user_id,result[\"Work_Experience\"],2.5))\n",
    "        df_li.extend(df_profession(result[\"Profession\"],user_id,3.3))\n",
    "        \n",
    "\n",
    "        df_li.extend(df_skill(result[\"Skills\"],user_id,3))\n",
    "        df_li.extend(df_skill(result[\"Languages\"],user_id,0.7))\n",
    "        df_li.extend(df_course(result[\"Courses\"],user_id,0.5))\n",
    "        df_li.extend(df_work(result[\"Work\"],user_id,1.5))\n",
    "        df_li.extend(df_edu(result[\"Education\"],user_id,1.5))\n",
    "    \n",
    "        df=pd.DataFrame(df_li,columns=[\"user_id\",\"skill\",\"rating\"])\n",
    "        #df[\"rating\"]=df[\"rating\"]/100\n",
    "        \n",
    "        \n",
    "        course_df.extend(df_course(result[\"Courses\"],user_id,100))\n",
    "        \n",
    "    return df,course_df"
   ]
  },
  {
   "cell_type": "code",
   "execution_count": 10,
   "metadata": {
    "collapsed": true
   },
   "outputs": [],
   "source": [
    "def get_profiles_df(user):\n",
    "    df,course_df=get_df()\n",
    "    user1_data=df[df[\"user_id\"]==user]\n",
    "    user1_data=user1_data.rename(columns={'rating':'rating1'})\n",
    "    user1_data=user1_data.rename(columns={'user_id':'user_id1'})\n",
    "    \n",
    "    \n",
    "    distinct_users1=np.unique(df['user_id'])\n",
    "    user1_val=np.sqrt(np.sum(np.square(user1_data['rating1']), axis=0))\n",
    "    user_data_all=pd.DataFrame()\n",
    "    for user2 in distinct_users1:\n",
    "        user2_data= df[df['user_id']==user2]\n",
    "        user2_data=user2_data.rename(columns={'rating':'rating2'})\n",
    "        user2_data=user2_data.rename(columns={'user_id':'user_id2'})\n",
    "        user2_val=np.sqrt(np.sum(np.square(user2_data['rating2']), axis=0))\n",
    "        user_data = pd.merge(user1_data,user2_data[['rating2','skill','user_id2']],on = 'skill', how = 'inner', sort = False)\n",
    "        user_data['vector_product']=(user_data['rating1']*user_data['rating2'])\n",
    "        user_data= user_data.groupby(['user_id1','user_id2'], as_index = False, sort = False).sum()\n",
    "        user_data['dot']=user_data['vector_product']/(user1_val*user2_val)\n",
    "        user_data_all = user_data_all.append(user_data, ignore_index=True)\n",
    "\n",
    "    user_data_all= user_data_all[user_data_all['dot']<0.99]\n",
    "    user_data_all = user_data_all.sort_values(['dot'], ascending=False)\n",
    "    \n",
    "    return user_data_all,course_df"
   ]
  },
  {
   "cell_type": "code",
   "execution_count": 86,
   "metadata": {
    "collapsed": true
   },
   "outputs": [],
   "source": [
    "def get_course(df,course_df):\n",
    "    course_df=pd.DataFrame(course_df,columns=[\"user_id2\",\"course\",\"rating\"])\n",
    "    df=df[[\"user_id2\",\"dot\"]]\n",
    "    courses_all=pd.merge(df,course_df,on=[\"user_id2\"])\n",
    "    courses_all=courses_all.groupby(['course'],as_index=False).sum()\n",
    "    courses_all=courses_all.sort_values(['dot'], ascending=False)\n",
    "    course_dict=[]\n",
    "    for i in range(len(courses_all)):\n",
    "        course_dict.append({\"text\":courses_all[\"course\"][i],\"weight\":int(courses_all[\"dot\"][i]/7),\"link\":course_links[courses_all[\"course\"][i]]})\n",
    "    \n",
    "    with open(path+'Suggestion/words.pkl','wb') as f:\n",
    "        pickle.dump(course_dict,f)\n",
    "        \n",
    "    return course_dict\n",
    "        "
   ]
  },
  {
   "cell_type": "code",
   "execution_count": 30,
   "metadata": {
    "collapsed": true
   },
   "outputs": [],
   "source": [
    "def get_profiles(user_id):\n",
    "    df,course_df=get_profiles_df(user_id)\n",
    "    \n",
    "    get_course(df,course_df)\n",
    "    \n",
    "    df=df.reset_index(drop=True)\n",
    "    i=0\n",
    "    response={}\n",
    "    for user in df[\"user_id2\"][0:10]:\n",
    "        with open(path+'data/'+user+'.json') as f:\n",
    "            result=json.load(f)\n",
    "\n",
    "        response[i]=result\n",
    "        i=i+1\n",
    "        \n",
    "    with open(path+'Suggestion/profiles.json','w') as f:\n",
    "        result=json.dump(response,f)"
   ]
  },
  {
   "cell_type": "code",
   "execution_count": 87,
   "metadata": {
    "collapsed": true
   },
   "outputs": [],
   "source": [
    "df,course_df=get_profiles_df(\"user_0\")"
   ]
  },
  {
   "cell_type": "code",
   "execution_count": 54,
   "metadata": {
    "collapsed": true
   },
   "outputs": [],
   "source": [
    "course_df=pd.DataFrame(course_df,columns=[\"user_id2\",\"course\",\"rating\"])"
   ]
  },
  {
   "cell_type": "code",
   "execution_count": 55,
   "metadata": {
    "collapsed": true
   },
   "outputs": [],
   "source": [
    "df=df[[\"user_id2\",\"dot\"]]"
   ]
  },
  {
   "cell_type": "code",
   "execution_count": 56,
   "metadata": {
    "collapsed": true
   },
   "outputs": [],
   "source": [
    "courses_all=pd.merge(df,course_df,on=[\"user_id2\"])"
   ]
  },
  {
   "cell_type": "code",
   "execution_count": 57,
   "metadata": {
    "collapsed": true
   },
   "outputs": [],
   "source": [
    "courses_all=courses_all.groupby(['course'],as_index=False).sum()"
   ]
  },
  {
   "cell_type": "code",
   "execution_count": 58,
   "metadata": {
    "collapsed": true
   },
   "outputs": [],
   "source": [
    "courses_all=courses_all.sort_values(['dot'], ascending=False)"
   ]
  },
  {
   "cell_type": "code",
   "execution_count": 73,
   "metadata": {
    "collapsed": true,
    "scrolled": true
   },
   "outputs": [],
   "source": [
    "course_dict=[]\n",
    "for i in range(len(courses_all)):\n",
    "    course_dict.append({\"text\":courses_all[\"course\"][i],\"weight\":int(courses_all[\"dot\"][i]/7),\"link\":course_links[courses_all[\"course\"][i]]})"
   ]
  },
  {
   "cell_type": "code",
   "execution_count": 75,
   "metadata": {
    "collapsed": true
   },
   "outputs": [],
   "source": []
  },
  {
   "cell_type": "code",
   "execution_count": 82,
   "metadata": {
    "collapsed": true
   },
   "outputs": [],
   "source": [
    "with open(path+'Suggestion/words.pkl','wb') as f:\n",
    "    pickle.dump(course_dict,f)"
   ]
  },
  {
   "cell_type": "code",
   "execution_count": 83,
   "metadata": {
    "collapsed": true
   },
   "outputs": [],
   "source": [
    "with open(path+'Suggestion/words.pkl','rb') as f:\n",
    "    result=pickle.load(f)"
   ]
  },
  {
   "cell_type": "code",
   "execution_count": null,
   "metadata": {
    "collapsed": true
   },
   "outputs": [],
   "source": []
  }
 ],
 "metadata": {
  "kernelspec": {
   "display_name": "Python 2",
   "language": "python",
   "name": "python2"
  },
  "language_info": {
   "codemirror_mode": {
    "name": "ipython",
    "version": 2
   },
   "file_extension": ".py",
   "mimetype": "text/x-python",
   "name": "python",
   "nbconvert_exporter": "python",
   "pygments_lexer": "ipython2",
   "version": "2.7.14"
  }
 },
 "nbformat": 4,
 "nbformat_minor": 2
}
