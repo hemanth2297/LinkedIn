{
 "cells": [
  {
   "cell_type": "code",
   "execution_count": null,
   "metadata": {
    "collapsed": true
   },
   "outputs": [],
   "source": [
    "import json"
   ]
  },
  {
   "cell_type": "code",
   "execution_count": 1,
   "metadata": {
    "collapsed": true
   },
   "outputs": [],
   "source": [
    "def about():\n",
    "    nodeList = request.get_json()\n",
    "    datalist=[]\n",
    "    json_data=json.dumps({})\n",
    "    for node in nodeList:\n",
    "        print(node['markText'])\n",
    "        val=node['markText']\n",
    "    # print(node['markText'])\n",
    "        url = \"https://www.linkedin.com/learning/search?keywords=\"+val\n",
    "        print(url)\n",
    "        driver = webdriver.Firefox()\n",
    "        driver.get(str(url))\n",
    "        text = driver.page_source\n",
    "        driver.close()\n",
    "        soup = BeautifulSoup(text,'html.parser')\n",
    "        data = soup.findAll('li',attrs={'class':'feed-card feed search-result-card ember-view'})\n",
    "        print(len(data))\n",
    "\n",
    "        for div in data:\n",
    "           a = div.findAll('a',attrs={'class':'entity-link__link ember-view'})\n",
    "           # nots = div.findAll('span',attrs={'class':'card-title__text'})\n",
    "           links={}\n",
    "           print(len(a))\n",
    "           # print(len(nots))\n",
    "           # for a in link:\n",
    "           # links['act_link']=a[0]['href']\n",
    "           # links['cor_link']=a[1]['href']\n",
    "           n = div.find('span',attrs={'class':'card-title__text'})\n",
    "           links['name'] = n.text\n",
    "           # print(links['act_link'])\n",
    "           print(links['name'])\n",
    "           datalist.append(links)       \n",
    "               # json_data = ({})\n",
    "    return  jsonify(datalist)"
   ]
  },
  {
   "cell_type": "code",
   "execution_count": 6,
   "metadata": {
    "collapsed": true
   },
   "outputs": [],
   "source": [
    "from selenium import webdriver\n",
    "from bs4 import BeautifulSoup"
   ]
  },
  {
   "cell_type": "code",
   "execution_count": 7,
   "metadata": {},
   "outputs": [
    {
     "name": "stdout",
     "output_type": "stream",
     "text": [
      "https://www.linkedin.com/learning/search?keywords=python\n"
     ]
    }
   ],
   "source": [
    "url = \"https://www.linkedin.com/learning/search?keywords=python\"\n",
    "print(url)\n",
    "driver = webdriver.Firefox()\n",
    "driver.get(str(url))\n",
    "text = driver.page_source\n",
    "driver.close()\n",
    "soup = BeautifulSoup(text,'html.parser')\n",
    "data = soup.findAll('li',attrs={'class':'feed-card feed search-result-card ember-view'})"
   ]
  },
  {
   "cell_type": "code",
   "execution_count": 8,
   "metadata": {},
   "outputs": [
    {
     "name": "stdout",
     "output_type": "stream",
     "text": [
      "10\n"
     ]
    }
   ],
   "source": [
    "print(len(data))"
   ]
  },
  {
   "cell_type": "code",
   "execution_count": 25,
   "metadata": {},
   "outputs": [
    {
     "name": "stdout",
     "output_type": "stream",
     "text": [
      "Python Essential Training\n",
      "Python Statistics Essential Training\n",
      "Python for Data Science Essential Training\n"
     ]
    }
   ],
   "source": [
    "\n",
    "datalist=[]\n",
    "for div in data:\n",
    "    a = div.findAll('a',attrs={'class':'entity-link__link ember-view'})\n",
    "    n = div.find('span',attrs={'class':'card-title__text'})\n",
    "    \n",
    "    if(n):\n",
    "        links['name'] = n.text\n",
    "       # print(links['act_link'])\n",
    "        print(links['name'])\n",
    "        datalist.append(\"https://www.linkedin.com/learning/\"+links['name'])       \n"
   ]
  },
  {
   "cell_type": "code",
   "execution_count": 32,
   "metadata": {},
   "outputs": [
    {
     "name": "stdout",
     "output_type": "stream",
     "text": [
      "<li class=\"feed-card feed search-result-card ember-view\" id=\"ember640\"><div class=\"ember-view\" id=\"ember643\"> <div class=\"entity-card course feed ember-view\" id=\"ember689\">\n",
      "<div aria-hidden=\"true\" class=\"card-media ember-view\" id=\"ember690\"><span class=\"entity-link ember-view\" id=\"ember691\"><a class=\"entity-link__link ember-view\" data-control-name=\"view_course\" href=\"/learning/python-essential-training-2\" id=\"ember693\" tabindex=\"-1\"> <span class=\"content-figure ember-view\" id=\"ember694\"><div class=\"content-figure__image-container\">\n",
      "<img alt=\"Course: Python Essential Training\" class=\"lazy-image content-figure__image loaded\" src=\"https://media.licdn.com/media-proxy/ext?w=512&amp;h=288&amp;f=n&amp;hash=kRqZ54mVrYq5il97lhajTKC53QU%3D&amp;ora=1%2CaFBCTXdkRmpGL2lvQUFBPQ%2CxAVta5g-0R6plxVUzgUv5K_PrkC9q0RIUJDPBy-nWiGo89yfZnbte87WZLSiolgXfyUJkwE0f-qoQjLpFo69LcLmY4Yx3A\"/>\n",
      "<span class=\"content-figure__figure-overlay\">\n",
      "<li-icon aria-hidden=\"true\" class=\"content-figure__play-icon\" size=\"large\" type=\"play-icon\"><svg class=\"artdeco-icon\" focusable=\"false\" height=\"24px\" preserveaspectratio=\"xMinYMin meet\" viewbox=\"0 0 24 24\" width=\"24px\" x=\"0\" y=\"0\"><path class=\"large-icon\" d=\"M20.61,11.35,4,1.88V22.12l16.61-9.47a.74.74,0,0,0,.3-1A.72.72,0,0,0,20.61,11.35ZM6,18.83V5.17L18,12Z\" style=\"isolation: isolate; fill: currentColor\"></path></svg></li-icon>\n",
      "</span>\n",
      "</div>\n",
      "</span>\n",
      "</a></span></div><div class=\"card-body ember-view\" id=\"ember695\"><div class=\"card-main ember-view\" id=\"ember696\"><div class=\"card-content ember-view\" id=\"ember697\"> <div class=\"entity-label ember-view\" id=\"ember698\">COURSE\n",
      "</div>\n",
      "<h3 class=\"content-title card-title ember-view\" id=\"ember699\"><span class=\"entity-link ember-view\" id=\"ember700\"><a class=\"entity-link__link ember-view\" data-control-name=\"view_course\" href=\"/learning/python-essential-training-2\" id=\"ember701\"> <span class=\"card-title__text\">Python Essential Training</span>\n",
      "</a></span></h3>\n",
      "<div class=\"card-subtitle content-byline ember-view\" id=\"ember702\">\n",
      "<span class=\"byline-label\">By:</span> Bill Weinman\n",
      "\n",
      "<!-- --></div>\n",
      "</div>\n",
      "</div><div class=\"card-meta ember-view\" id=\"ember704\"><ul class=\"meta-list ember-view\" id=\"ember705\"><!-- --> <li class=\"meta-duration ember-view\" id=\"ember706\">  4h 45m\n",
      "</li>\n",
      "<li class=\"meta-skills ember-view\" id=\"ember708\"> <span>\n",
      "<strong>Skills:</strong> <a class=\"li-i18n-linkto skill\" href=\"/learning/search?keywords=Python%20(Programming%20Language)\">Python (Programming Language)</a>\n",
      "</span>\n",
      "</li>\n",
      "<!-- -->\n",
      "</ul><ul class=\"actions-list ember-view\" id=\"ember709\"> <li>\n",
      "<div class=\"btn-round btn-tertiary bookmark bookmark--default ember-view\" id=\"ember711\" style=\"display: none;\"><button class=\"bookmark__button \" data-control-name=\"bookmark\" data-ember-action=\"\" data-ember-action-712=\"712\">\n",
      "<li-icon aria-hidden=\"true\" size=\"large\" type=\"ribbon-icon\"><svg class=\"artdeco-icon\" focusable=\"false\" height=\"24px\" preserveaspectratio=\"xMinYMin meet\" viewbox=\"0 0 24 24\" width=\"24px\" x=\"0\" y=\"0\"><path class=\"large-icon\" d=\"M18,2H6A1,1,0,0,0,5,3V23l7-4.72L19,23V3A1,1,0,0,0,18,2ZM7,19.36V4H17V19.34L12,16Z\" style=\"fill: currentColor\"></path></svg></li-icon>\n",
      "<!-- --> <span class=\"bookmark__a11y-text a11y-text\">\n",
      "      Save Python Essential Training\n",
      "    </span>\n",
      "</button>\n",
      "</div>\n",
      "</li>\n",
      "</ul>\n",
      "</div>\n",
      "</div>\n",
      "</div>\n",
      "</div></li>\n",
      "done\n",
      "<li class=\"feed-card feed search-result-card ember-view\" id=\"ember645\"><div class=\"ember-view\" id=\"ember648\"> <div class=\"entity-card course feed ember-view\" id=\"ember713\">\n",
      "<div aria-hidden=\"true\" class=\"card-media ember-view\" id=\"ember714\"><span class=\"entity-link ember-view\" id=\"ember715\"><a class=\"entity-link__link ember-view\" data-control-name=\"view_course\" href=\"/learning/python-statistics-essential-training\" id=\"ember717\" tabindex=\"-1\"> <span class=\"content-figure ember-view\" id=\"ember718\"><div class=\"content-figure__image-container\">\n",
      "<img alt=\"Course: Python Statistics Essential Training\" class=\"lazy-image content-figure__image loaded\" src=\"https://media.licdn.com/media-proxy/ext?w=512&amp;h=288&amp;f=n&amp;hash=TRLSv7xVFt7uzdzqdiBMrci2HmQ%3D&amp;ora=1%2CaFBCTXdkRmpGL2lvQUFBPQ%2CxAVta5g-0R6plxVUzgUv5K_PrkC9q0RIUJDPBy-mWiSi-NOfZ3boccXZZLSiolsReCQDkwY1eO2vQzfiFI69LcLmY4Yx3A\"/>\n",
      "<span class=\"content-figure__figure-overlay\">\n",
      "<li-icon aria-hidden=\"true\" class=\"content-figure__play-icon\" size=\"large\" type=\"play-icon\"><svg class=\"artdeco-icon\" focusable=\"false\" height=\"24px\" preserveaspectratio=\"xMinYMin meet\" viewbox=\"0 0 24 24\" width=\"24px\" x=\"0\" y=\"0\"><path class=\"large-icon\" d=\"M20.61,11.35,4,1.88V22.12l16.61-9.47a.74.74,0,0,0,.3-1A.72.72,0,0,0,20.61,11.35ZM6,18.83V5.17L18,12Z\" style=\"isolation: isolate; fill: currentColor\"></path></svg></li-icon>\n",
      "</span>\n",
      "</div>\n",
      "</span>\n",
      "</a></span></div><div class=\"card-body ember-view\" id=\"ember719\"><div class=\"card-main ember-view\" id=\"ember720\"><div class=\"card-content ember-view\" id=\"ember721\"> <div class=\"entity-label ember-view\" id=\"ember722\">COURSE\n",
      "</div>\n",
      "<h3 class=\"content-title card-title ember-view\" id=\"ember723\"><span class=\"entity-link ember-view\" id=\"ember724\"><a class=\"entity-link__link ember-view\" data-control-name=\"view_course\" href=\"/learning/python-statistics-essential-training\" id=\"ember725\"> <span class=\"card-title__text\">Python Statistics Essential Training</span>\n",
      "</a></span></h3>\n",
      "<div class=\"card-subtitle content-byline ember-view\" id=\"ember726\">\n",
      "<span class=\"byline-label\">By:</span> Michele Vallisneri\n",
      "\n",
      "<!-- --></div>\n",
      "</div>\n",
      "</div><div class=\"card-meta ember-view\" id=\"ember728\"><ul class=\"meta-list ember-view\" id=\"ember729\"><!-- --> <li class=\"meta-duration ember-view\" id=\"ember730\">  2h 58m\n",
      "</li>\n",
      "<li class=\"meta-skills ember-view\" id=\"ember733\"> <span>\n",
      "<strong>Skills:</strong> <a class=\"li-i18n-linkto skill\" href=\"/learning/search?keywords=Python%20(Programming%20Language)\">Python (Programming Language)</a>, <a class=\"li-i18n-linkto skill\" href=\"/learning/search?keywords=Statistics\">Statistics</a>\n",
      "</span>\n",
      "</li>\n",
      "<!-- -->\n",
      "</ul><ul class=\"actions-list ember-view\" id=\"ember734\"> <li>\n",
      "<div class=\"btn-round btn-tertiary bookmark bookmark--default ember-view\" id=\"ember736\" style=\"display: none;\"><button class=\"bookmark__button \" data-control-name=\"bookmark\" data-ember-action=\"\" data-ember-action-737=\"737\">\n",
      "<li-icon aria-hidden=\"true\" size=\"large\" type=\"ribbon-icon\"><svg class=\"artdeco-icon\" focusable=\"false\" height=\"24px\" preserveaspectratio=\"xMinYMin meet\" viewbox=\"0 0 24 24\" width=\"24px\" x=\"0\" y=\"0\"><path class=\"large-icon\" d=\"M18,2H6A1,1,0,0,0,5,3V23l7-4.72L19,23V3A1,1,0,0,0,18,2ZM7,19.36V4H17V19.34L12,16Z\" style=\"fill: currentColor\"></path></svg></li-icon>\n",
      "<!-- --> <span class=\"bookmark__a11y-text a11y-text\">\n",
      "      Save Python Statistics Essential Training\n",
      "    </span>\n",
      "</button>\n",
      "</div>\n",
      "</li>\n",
      "</ul>\n",
      "</div>\n",
      "</div>\n",
      "</div>\n",
      "</div></li>\n",
      "done\n",
      "<li class=\"feed-card feed search-result-card ember-view\" id=\"ember650\"><div class=\"ember-view\" id=\"ember653\"> <div class=\"entity-card course feed ember-view\" id=\"ember738\">\n",
      "<div aria-hidden=\"true\" class=\"card-media ember-view\" id=\"ember739\"><span class=\"entity-link ember-view\" id=\"ember740\"><a class=\"entity-link__link ember-view\" data-control-name=\"view_course\" href=\"/learning/python-for-data-science-essential-training\" id=\"ember742\" tabindex=\"-1\"> <span class=\"content-figure ember-view\" id=\"ember743\"><div class=\"content-figure__image-container\">\n",
      "<img alt=\"Course: Python for Data Science Essential Training\" class=\"lazy-image content-figure__image\"/>\n",
      "<span class=\"content-figure__figure-overlay\">\n",
      "<li-icon aria-hidden=\"true\" class=\"content-figure__play-icon\" size=\"large\" type=\"play-icon\"><svg class=\"artdeco-icon\" focusable=\"false\" height=\"24px\" preserveaspectratio=\"xMinYMin meet\" viewbox=\"0 0 24 24\" width=\"24px\" x=\"0\" y=\"0\"><path class=\"large-icon\" d=\"M20.61,11.35,4,1.88V22.12l16.61-9.47a.74.74,0,0,0,.3-1A.72.72,0,0,0,20.61,11.35ZM6,18.83V5.17L18,12Z\" style=\"isolation: isolate; fill: currentColor\"></path></svg></li-icon>\n",
      "</span>\n",
      "</div>\n",
      "</span>\n",
      "</a></span></div><div class=\"card-body ember-view\" id=\"ember744\"><div class=\"card-main ember-view\" id=\"ember745\"><div class=\"card-content ember-view\" id=\"ember746\"> <div class=\"entity-label ember-view\" id=\"ember747\">COURSE\n",
      "</div>\n",
      "<h3 class=\"content-title card-title ember-view\" id=\"ember748\"><span class=\"entity-link ember-view\" id=\"ember749\"><a class=\"entity-link__link ember-view\" data-control-name=\"view_course\" href=\"/learning/python-for-data-science-essential-training\" id=\"ember750\"> <span class=\"card-title__text\">Python for Data Science Essential Training</span>\n",
      "</a></span></h3>\n",
      "<div class=\"card-subtitle content-byline ember-view\" id=\"ember751\">\n",
      "<span class=\"byline-label\">By:</span> Lillian Pierson, P.E.\n",
      "\n",
      "<!-- --></div>\n",
      "</div>\n",
      "</div><div class=\"card-meta ember-view\" id=\"ember753\"><ul class=\"meta-list ember-view\" id=\"ember754\"><!-- --> <li class=\"meta-duration ember-view\" id=\"ember755\">  6h 32m\n",
      "</li>\n",
      "<li class=\"meta-skills ember-view\" id=\"ember758\"> <span>\n",
      "<strong>Skills:</strong> <a class=\"li-i18n-linkto skill\" href=\"/learning/search?keywords=Machine%20Learning\">Machine Learning</a>, <a class=\"li-i18n-linkto skill\" href=\"/learning/search?keywords=Data%20Visualization\">Data Visualization</a>\n",
      "</span>\n",
      "</li>\n",
      "<!-- -->\n",
      "</ul><ul class=\"actions-list ember-view\" id=\"ember759\"> <li>\n",
      "<div class=\"btn-round btn-tertiary bookmark bookmark--default ember-view\" id=\"ember761\" style=\"display: none;\"><button class=\"bookmark__button \" data-control-name=\"bookmark\" data-ember-action=\"\" data-ember-action-762=\"762\">\n",
      "<li-icon aria-hidden=\"true\" size=\"large\" type=\"ribbon-icon\"><svg class=\"artdeco-icon\" focusable=\"false\" height=\"24px\" preserveaspectratio=\"xMinYMin meet\" viewbox=\"0 0 24 24\" width=\"24px\" x=\"0\" y=\"0\"><path class=\"large-icon\" d=\"M18,2H6A1,1,0,0,0,5,3V23l7-4.72L19,23V3A1,1,0,0,0,18,2ZM7,19.36V4H17V19.34L12,16Z\" style=\"fill: currentColor\"></path></svg></li-icon>\n",
      "<!-- --> <span class=\"bookmark__a11y-text a11y-text\">\n",
      "      Save Python for Data Science Essential Training\n",
      "    </span>\n",
      "</button>\n",
      "</div>\n",
      "</li>\n",
      "</ul>\n",
      "</div>\n",
      "</div>\n",
      "</div>\n",
      "</div></li>\n",
      "done\n",
      "<li class=\"feed-card feed search-result-card ember-view\" id=\"ember655\"><div class=\"ember-view\" id=\"ember658\"><!-- --></div></li>\n",
      "done\n",
      "<li class=\"feed-card feed search-result-card ember-view\" id=\"ember660\"><div class=\"ember-view\" id=\"ember663\"><!-- --></div></li>\n",
      "done\n",
      "<li class=\"feed-card feed search-result-card ember-view\" id=\"ember665\"><div class=\"ember-view\" id=\"ember668\"><!-- --></div></li>\n",
      "done\n",
      "<li class=\"feed-card feed search-result-card ember-view\" id=\"ember670\"><div class=\"ember-view\" id=\"ember673\"><!-- --></div></li>\n",
      "done\n",
      "<li class=\"feed-card feed search-result-card ember-view\" id=\"ember675\"><div class=\"ember-view\" id=\"ember678\"><!-- --></div></li>\n",
      "done\n",
      "<li class=\"feed-card feed search-result-card ember-view\" id=\"ember680\"><div class=\"ember-view\" id=\"ember683\"><!-- --></div></li>\n",
      "done\n",
      "<li class=\"feed-card feed search-result-card ember-view\" id=\"ember685\"><div class=\"ember-view\" id=\"ember688\"><!-- --></div></li>\n",
      "done\n"
     ]
    }
   ],
   "source": [
    "for div in data:\n",
    "    print(div)\n",
    "    print(\"done\")"
   ]
  },
  {
   "cell_type": "code",
   "execution_count": 27,
   "metadata": {},
   "outputs": [
    {
     "data": {
      "text/plain": [
       "[]"
      ]
     },
     "execution_count": 27,
     "metadata": {},
     "output_type": "execute_result"
    }
   ],
   "source": [
    "a"
   ]
  },
  {
   "cell_type": "code",
   "execution_count": null,
   "metadata": {
    "collapsed": true
   },
   "outputs": [],
   "source": []
  }
 ],
 "metadata": {
  "kernelspec": {
   "display_name": "Python 2",
   "language": "python",
   "name": "python2"
  },
  "language_info": {
   "codemirror_mode": {
    "name": "ipython",
    "version": 2
   },
   "file_extension": ".py",
   "mimetype": "text/x-python",
   "name": "python",
   "nbconvert_exporter": "python",
   "pygments_lexer": "ipython2",
   "version": "2.7.14"
  }
 },
 "nbformat": 4,
 "nbformat_minor": 2
}
