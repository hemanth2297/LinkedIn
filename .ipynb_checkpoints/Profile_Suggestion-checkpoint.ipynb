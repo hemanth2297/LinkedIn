{
 "cells": [
  {
   "cell_type": "code",
   "execution_count": 74,
   "metadata": {
    "collapsed": true
   },
   "outputs": [],
   "source": [
    "import pandas as pd\n",
    "import numpy as np\n",
    "import math\n",
    "import random\n",
    "import json\n",
    "import glob,os\n",
    "from flask import Flask, request\n",
    "from flask_cors import CORS, cross_origin\n",
    "from flask_restful import Resource, Api\n",
    "from json import dumps\n",
    "from flask_jsonpify import jsonify\n",
    "import json\n",
    "import pandas as pd\n",
    "import pickle"
   ]
  },
  {
   "cell_type": "code",
   "execution_count": 57,
   "metadata": {
    "collapsed": true
   },
   "outputs": [],
   "source": [
    "path='/Users/hemanth/Desktop/Linkdin/'"
   ]
  },
  {
   "cell_type": "code",
   "execution_count": 58,
   "metadata": {
    "collapsed": true
   },
   "outputs": [],
   "source": [
    "with open(path+'Auto_Profile/course_links.json') as f:\n",
    "    course_links=json.load(f)"
   ]
  },
  {
   "cell_type": "code",
   "execution_count": 59,
   "metadata": {
    "collapsed": true
   },
   "outputs": [],
   "source": [
    "def df_return(skill,rating,num,user_id):\n",
    "    li=[]\n",
    "    for i in range(num):\n",
    "        li.append([user_id,str(skill),rating])\n",
    "        \n",
    "    return li"
   ]
  },
  {
   "cell_type": "code",
   "execution_count": 60,
   "metadata": {
    "collapsed": true
   },
   "outputs": [],
   "source": [
    "def df_skill(skills,user_id,num):\n",
    "    li=[]\n",
    "    for i in range(len(skills)):\n",
    "        li.append([user_id,str(skills[i][\"skill\"]),num])\n",
    "        \n",
    "    return li"
   ]
  },
  {
   "cell_type": "code",
   "execution_count": 61,
   "metadata": {
    "collapsed": true
   },
   "outputs": [],
   "source": [
    "def df_course(skills,user_id,num):\n",
    "    li=[]\n",
    "    for i in range(len(skills)):\n",
    "        li.append([user_id,str(skills[i][\"skill\"]),num])\n",
    "        \n",
    "    return li"
   ]
  },
  {
   "cell_type": "code",
   "execution_count": 62,
   "metadata": {
    "collapsed": true
   },
   "outputs": [],
   "source": [
    "def df_work(skills,user_id,num):\n",
    "    li=[]\n",
    "    for i in range(len(skills)):\n",
    "        li.append([user_id,str(skills[i][\"place\"]),num])\n",
    "        \n",
    "    return li"
   ]
  },
  {
   "cell_type": "code",
   "execution_count": 63,
   "metadata": {
    "collapsed": true
   },
   "outputs": [],
   "source": [
    "def df_edu(skills,user_id,num):\n",
    "    li=[]\n",
    "    for i in range(len(skills)):\n",
    "        li.append([user_id,str(skills[i][\"place\"]),num])\n",
    "        li.append([user_id,str(skills[i][\"description\"]),num])\n",
    "        \n",
    "    return li"
   ]
  },
  {
   "cell_type": "code",
   "execution_count": 67,
   "metadata": {
    "collapsed": true
   },
   "outputs": [],
   "source": [
    "def get_df():\n",
    "    users_2=os.listdir(path+\"/data/\")\n",
    "    users=[]\n",
    "    for i in users_2:\n",
    "        users.append(i[:-5])\n",
    "    users.remove(\".DS_\")\n",
    "    \n",
    "    \n",
    "    df_li=[]\n",
    "    course_df=[]\n",
    "    for i in users:\n",
    "        with open(path+'data/'+i+'.json') as f:\n",
    "            result=json.load(f)\n",
    "\n",
    "        user_id=i\n",
    "        df_li.extend(df_return(\"Work_Experience\",result[\"Work_Experience\"]*10,1,user_id))\n",
    "        df_li.extend(df_return(result[\"Profession\"],100,1,user_id))\n",
    "        df_li.extend(df_return(result[\"Place\"],100,1,user_id))\n",
    "\n",
    "\n",
    "        df_li.extend(df_skill(result[\"Skills\"],user_id,100))\n",
    "        df_li.extend(df_skill(result[\"Languages\"],user_id,100))\n",
    "        df_li.extend(df_skill(result[\"Courses\"],user_id,100))\n",
    "        df_li.extend(df_work(result[\"Work\"],user_id,100))\n",
    "        df_li.extend(df_edu(result[\"Education\"],user_id,100))\n",
    "        \n",
    "        df=pd.DataFrame(df_li,columns=[\"user_id\",\"skill\",\"rating\"])\n",
    "        df[\"rating\"]=df[\"rating\"]/100\n",
    "        \n",
    "        \n",
    "        course_df.extend(df_skill(result[\"Courses\"],user_id,100))\n",
    "        \n",
    "    return df,course_df"
   ]
  },
  {
   "cell_type": "code",
   "execution_count": 68,
   "metadata": {
    "collapsed": true
   },
   "outputs": [],
   "source": [
    "def get_profiles_df(user):\n",
    "    df,course_df=get_df()\n",
    "    user1_data=df[df[\"user_id\"]==user]\n",
    "    user1_data=user1_data.rename(columns={'rating':'rating1'})\n",
    "    user1_data=user1_data.rename(columns={'user_id':'user_id1'})\n",
    "    \n",
    "    \n",
    "    distinct_users1=np.unique(df['user_id'])\n",
    "    user1_val=np.sqrt(np.sum(np.square(user1_data['rating1']), axis=0))\n",
    "    user_data_all=pd.DataFrame()\n",
    "    for user2 in distinct_users1:\n",
    "        user2_data= df[df['user_id']==user2]\n",
    "        user2_data=user2_data.rename(columns={'rating':'rating2'})\n",
    "        user2_data=user2_data.rename(columns={'user_id':'user_id2'})\n",
    "        user2_val=np.sqrt(np.sum(np.square(user2_data['rating2']), axis=0))\n",
    "        user_data = pd.merge(user1_data,user2_data[['rating2','skill','user_id2']],on = 'skill', how = 'inner', sort = False)\n",
    "        user_data['vector_product']=(user_data['rating1']*user_data['rating2'])\n",
    "        user_data= user_data.groupby(['user_id1','user_id2'], as_index = False, sort = False).sum()\n",
    "        user_data['dot']=user_data['vector_product']/(user1_val*user2_val)\n",
    "        user_data_all = user_data_all.append(user_data, ignore_index=True)\n",
    "\n",
    "    user_data_all= user_data_all[user_data_all['dot']<0.99]\n",
    "    user_data_all = user_data_all.sort_values(['dot'], ascending=False)\n",
    "    \n",
    "    return user_data_all,course_df"
   ]
  },
  {
   "cell_type": "code",
   "execution_count": 88,
   "metadata": {},
   "outputs": [],
   "source": [
    "def get_course(df,course_df):\n",
    "    course_df=pd.DataFrame(course_df,columns=[\"user_id2\",\"course\",\"rating\"])\n",
    "    df=df[[\"user_id2\",\"dot\"]]\n",
    "    courses_all=pd.merge(df,course_df,on=[\"user_id2\"])\n",
    "    courses_all=courses_all.groupby(['course'],as_index=False).sum()\n",
    "    courses_all=courses_all.sort_values(['dot'], ascending=False)\n",
    "    course_dict=[]\n",
    "    for i in range(len(courses_all)):\n",
    "        course_dict.append({\"text\":courses_all[\"course\"][i],\"weight\":int(courses_all[\"dot\"][i]/7)})\n",
    "        try :\n",
    "            course_dict[i][\"link\"]=course_links[courses_all[\"course\"][i]]\n",
    "        except KeyError:\n",
    "            course_dict[i][\"link\"]=\"https://www.linkedin.com/\"\n",
    "            \n",
    "    \n",
    "    with open(path+'Suggestion/words.pkl','wb') as f:\n",
    "        pickle.dump(course_dict,f)\n",
    "        \n",
    "    return course_dict\n",
    "        "
   ]
  },
  {
   "cell_type": "code",
   "execution_count": 89,
   "metadata": {},
   "outputs": [],
   "source": [
    "def get_profiles(user_id):\n",
    "    df,course_df=get_profiles_df(user_id)\n",
    "    \n",
    "    get_course(df,course_df)\n",
    "    \n",
    "    df=df.reset_index(drop=True)\n",
    "    i=0\n",
    "    response={}\n",
    "    for user in df[\"user_id2\"][0:10]:\n",
    "        with open(path+'data/'+user+'.json') as f:\n",
    "            result=json.load(f)\n",
    "\n",
    "        response[i]=result\n",
    "        i=i+1\n",
    "        \n",
    "    with open(path+'Suggestion/profiles.json','w') as f:\n",
    "        result=json.dump(response,f)"
   ]
  },
  {
   "cell_type": "code",
   "execution_count": 90,
   "metadata": {
    "collapsed": true
   },
   "outputs": [],
   "source": [
    "def hackathon_json(response):\n",
    "    tool_list=[]\n",
    "    for i in response[\"Skills\"]:\n",
    "        tool_list.append(i[\"skill\"])\n",
    "        \n",
    "    df=pd.read_csv(path+\"Suggestion/hackathon.csv\")\n",
    "    result=pd.DataFrame(columns=df.columns)\n",
    "    df[\"Tools\"]=df[\"Tools\"].str.split(\",\")\n",
    "    index=[]\n",
    "    for ind,i in enumerate(df[\"Tools\"]):\n",
    "        for k in tool_list:\n",
    "            if(k in i):\n",
    "                index.append(ind)\n",
    "                \n",
    "    result=result.append(df.loc[index])\n",
    "    result=result[~result.index.duplicated(keep='first')]\n",
    "    result=result[[\"Hackathon_Name\",\"Website\",\"Link\"]]\n",
    "    result=result.reset_index(drop=True)\n",
    "    result.columns = ['name', 'website','Link']\n",
    "    \n",
    "    data=result.to_json(orient='index')\n",
    "    data=json.loads(data)\n",
    "    \n",
    "    \n",
    "    with open(path+'Suggestion/hackathon.json','w') as f:\n",
    "        json.dump(data,f)"
   ]
  },
  {
   "cell_type": "code",
   "execution_count": null,
   "metadata": {},
   "outputs": [
    {
     "name": "stderr",
     "output_type": "stream",
     "text": [
      " * Running on http://127.0.0.1:5001/ (Press CTRL+C to quit)\n",
      "127.0.0.1 - - [18/Jan/2019 02:48:13] \"GET /Profiles?user=user_0 HTTP/1.1\" 200 -\n",
      "127.0.0.1 - - [18/Jan/2019 02:48:17] \"GET /Profiles?user=user_0 HTTP/1.1\" 200 -\n",
      "127.0.0.1 - - [18/Jan/2019 02:48:18] \"OPTIONS /Submit/ HTTP/1.1\" 200 -\n",
      "127.0.0.1 - - [18/Jan/2019 02:48:29] \"POST /Submit/ HTTP/1.1\" 200 -\n",
      "127.0.0.1 - - [18/Jan/2019 02:48:46] \"GET /Hackathons/Suggestion/ HTTP/1.1\" 200 -\n",
      "127.0.0.1 - - [18/Jan/2019 02:49:33] \"GET /Profiles/Suggestion/ HTTP/1.1\" 200 -\n",
      "127.0.0.1 - - [18/Jan/2019 02:50:17] \"GET /Hackathons/Suggestion/ HTTP/1.1\" 200 -\n",
      "127.0.0.1 - - [18/Jan/2019 02:50:18] \"GET /Profiles/Suggestion/ HTTP/1.1\" 200 -\n",
      "127.0.0.1 - - [18/Jan/2019 02:50:20] \"GET /Hackathons/Suggestion/ HTTP/1.1\" 200 -\n",
      "127.0.0.1 - - [18/Jan/2019 02:50:22] \"GET /Profiles/Suggestion/ HTTP/1.1\" 200 -\n",
      "127.0.0.1 - - [18/Jan/2019 02:50:22] \"GET /Hackathons/Suggestion/ HTTP/1.1\" 200 -\n",
      "127.0.0.1 - - [18/Jan/2019 02:50:24] \"GET /Hackathons/Suggestion/ HTTP/1.1\" 200 -\n",
      "127.0.0.1 - - [18/Jan/2019 02:50:25] \"GET /Profiles/Suggestion/ HTTP/1.1\" 200 -\n",
      "127.0.0.1 - - [18/Jan/2019 02:50:25] \"GET /Hackathons/Suggestion/ HTTP/1.1\" 200 -\n",
      "127.0.0.1 - - [18/Jan/2019 02:50:27] \"GET /Hackathons/Suggestion/ HTTP/1.1\" 200 -\n",
      "127.0.0.1 - - [18/Jan/2019 02:55:03] \"GET /Profiles?user=user_0 HTTP/1.1\" 200 -\n",
      "127.0.0.1 - - [18/Jan/2019 02:56:28] \"GET /Profiles?user=user_0 HTTP/1.1\" 200 -\n",
      "127.0.0.1 - - [18/Jan/2019 02:56:39] \"GET /Profiles?user=user_0 HTTP/1.1\" 200 -\n",
      "127.0.0.1 - - [18/Jan/2019 02:57:24] \"GET /Profiles?user=user_0 HTTP/1.1\" 200 -\n",
      "127.0.0.1 - - [18/Jan/2019 02:58:16] \"GET /Profiles?user=user_0 HTTP/1.1\" 200 -\n",
      "127.0.0.1 - - [18/Jan/2019 02:58:36] \"GET /Profiles?user=user_0 HTTP/1.1\" 200 -\n",
      "127.0.0.1 - - [18/Jan/2019 02:59:01] \"GET /Profiles?user=user_0 HTTP/1.1\" 200 -\n",
      "127.0.0.1 - - [18/Jan/2019 03:00:01] \"GET /Profiles?user=user_0 HTTP/1.1\" 200 -\n",
      "127.0.0.1 - - [18/Jan/2019 03:01:24] \"GET /Profiles?user=user_0 HTTP/1.1\" 200 -\n",
      "127.0.0.1 - - [18/Jan/2019 03:01:56] \"GET /Profiles?user=user_0 HTTP/1.1\" 200 -\n",
      "127.0.0.1 - - [18/Jan/2019 03:02:55] \"GET /Profiles?user=user_0 HTTP/1.1\" 200 -\n",
      "127.0.0.1 - - [18/Jan/2019 03:03:07] \"GET /Profiles?user=user_0 HTTP/1.1\" 200 -\n",
      "127.0.0.1 - - [18/Jan/2019 03:04:10] \"GET /Profiles?user=user_0 HTTP/1.1\" 200 -\n",
      "127.0.0.1 - - [18/Jan/2019 03:04:49] \"GET /Profiles?user=user_0 HTTP/1.1\" 200 -\n",
      "127.0.0.1 - - [18/Jan/2019 03:05:09] \"GET /Profiles?user=user_0 HTTP/1.1\" 200 -\n",
      "127.0.0.1 - - [18/Jan/2019 03:06:13] \"GET /Profiles?user=user_0 HTTP/1.1\" 200 -\n"
     ]
    }
   ],
   "source": [
    "app = Flask(__name__)\n",
    "api = Api(app)\n",
    "\n",
    "CORS(app)\n",
    "\n",
    "@app.route(\"/\")\n",
    "def hello():\n",
    "    return jsonify({'text':'Hello World!'})\n",
    "\n",
    "    \n",
    "def new_user_data(user_id,first_name,last_name):\n",
    "    data={\n",
    "  \"name\":first_name+\" \"+last_name,\n",
    "  \"user_id\":user_id,\n",
    "  \"Profession\":\"Designer\",\n",
    "  \"Phone_Number\": \"7253046164\",\n",
    "  \"Email_id\":\"virathmanth22@gmail.com\",\n",
    "  \"Place\":\"Bengaluru\",\n",
    "  \"Skills\":[{\"skill\":\"Machine Larning\",\"percentage\":\"90%\"},{\"skill\":\"Java2\",\"percentage\":\"60%\"}],\n",
    "  \"Languages\":[{\"skill\":\"test1\",\"percentage\":\"90%\"}],\n",
    "  \"Courses\":[{\"skill\":\"ml\",\"percentage\":\"https://www.quora.com/\"}],\n",
    "  \"Projects\":[{\"place\":\"test1\",\"dur\":\"2012-2019\",\"description\":\"check\"}],\n",
    "  \"Education\":[{\"place\":\"iit\",\"dur\":\"2012-2020\",\"description\":\"check\"}],\n",
    "  \"Work\":[],\n",
    "  \"Work_Experience\": 5\n",
    "}\n",
    "\n",
    "    return data\n",
    "\n",
    "\n",
    "\n",
    "def get_course_link(course_name):\n",
    "    return \"https://www.quora.com/\"\n",
    "\n",
    "class Employees_Name(Resource):\n",
    "    def get(self):\n",
    "        \n",
    "        name=request.args.get('user', '')\n",
    "        with open(path+'data/'+name+'.json') as f:\n",
    "            result=json.load(f)\n",
    "        return result\n",
    "        \n",
    "@app.route(\"/Profiles_Post/\", methods=['POST'])\n",
    "def post_by_employee_name(): \n",
    "\n",
    "    data=json.loads(str(request.data))\n",
    "    name=data[\"user_id\"]\n",
    "    with open(path+'data/'+name+'.json','w') as f:\n",
    "            result=json.dump(data,f)\n",
    "    \n",
    "    name=request.args.get('name', '')\n",
    "    return jsonify(data)\n",
    "\n",
    "\n",
    "@app.route(\"/Profiles/new_user\", methods=['GET'])\n",
    "def new_user(): \n",
    "\n",
    "    user_id=request.args.get('user_id', '')\n",
    "    first_name=request.args.get('first_name', '')\n",
    "    last_name=request.args.get('last_name', '')\n",
    "    data=new_user_data(user_id,first_name,last_name)\n",
    "    with open(path+'data/'+user_id+'.json','w') as f:\n",
    "            result=json.dump(data,f)\n",
    "    \n",
    "    return jsonify(data)\n",
    "\n",
    "\n",
    "@app.route(\"/Courses/\", methods=['GET'])\n",
    "def course_link(): \n",
    "    \n",
    "    course_name=request.args.get('course_name', '')\n",
    "    course_link=get_course_link(course_name)    \n",
    "    return course_link\n",
    "\n",
    "\n",
    "@app.route(\"/Profiles/Suggestion/\", methods=['GET'])\n",
    "def Profile_Suggestion(): \n",
    "\n",
    "    with open(path+'Suggestion/profiles.json') as f:\n",
    "        result=json.load(f)\n",
    "        \n",
    "    return jsonify(result)\n",
    "\n",
    "\n",
    "@app.route(\"/Hackathons/Suggestion/\", methods=['GET'])\n",
    "def Hackathon_Suggestion(): \n",
    "\n",
    "    with open(path+'Suggestion/hackathon.json') as f:\n",
    "        result=json.load(f)\n",
    "         \n",
    "    return jsonify(result)\n",
    "\n",
    "@app.route(\"/Courses/Suggestion/\", methods=['GET'])\n",
    "def Courses_Suggestion(): \n",
    "\n",
    "    with open(path+'Suggestion/words.pkl') as f:\n",
    "        result=pickle.load(f)\n",
    "         \n",
    "    return jsonify(result)\n",
    "\n",
    "@app.route(\"/Submit/\", methods=['POST'])\n",
    "def profile_submit(): \n",
    "    data=json.loads(str(request.data))\n",
    "    user_id=data[\"user_id\"]\n",
    "\n",
    "    hackathon_json(data)\n",
    "    get_profiles(user_id)\n",
    "    \n",
    "    return \"Submit_Done\"\n",
    "\n",
    "\n",
    "api.add_resource(Employees_Name, '/Profiles') # Route_3\n",
    "\n",
    "\n",
    "if __name__ == '__main__':\n",
    "   app.run(port=5001)\n"
   ]
  },
  {
   "cell_type": "code",
   "execution_count": null,
   "metadata": {
    "collapsed": true
   },
   "outputs": [],
   "source": []
  },
  {
   "cell_type": "code",
   "execution_count": null,
   "metadata": {
    "collapsed": true
   },
   "outputs": [],
   "source": []
  }
 ],
 "metadata": {
  "kernelspec": {
   "display_name": "Python 2",
   "language": "python",
   "name": "python2"
  },
  "language_info": {
   "codemirror_mode": {
    "name": "ipython",
    "version": 2
   },
   "file_extension": ".py",
   "mimetype": "text/x-python",
   "name": "python",
   "nbconvert_exporter": "python",
   "pygments_lexer": "ipython2",
   "version": "2.7.14"
  }
 },
 "nbformat": 4,
 "nbformat_minor": 2
}
