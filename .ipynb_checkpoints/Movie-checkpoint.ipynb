{
 "cells": [
  {
   "cell_type": "code",
   "execution_count": 10,
   "metadata": {
    "collapsed": true
   },
   "outputs": [],
   "source": [
    "import pandas as pd\n",
    "import numpy as np\n",
    "import math\n",
    "import random"
   ]
  },
  {
   "cell_type": "code",
   "execution_count": 34,
   "metadata": {
    "collapsed": true
   },
   "outputs": [],
   "source": [
    "Ratings=pd.read_csv(\"/Users/hemanth/Desktop/Movie/ratings.csv\")\n",
    "Movies=pd.read_csv(\"/Users/hemanth/Desktop/Movie/movies.csv\")\n",
    "Tags=pd.read_csv(\"/Users/hemanth/Desktop/Movie/tags.csv\")"
   ]
  },
  {
   "cell_type": "code",
   "execution_count": 35,
   "metadata": {
    "collapsed": true,
    "scrolled": true
   },
   "outputs": [],
   "source": [
    "Mean= Ratings.groupby(['userId'], as_index = False, sort = False).mean().rename(columns = {'rating': 'rating_mean'})[['userId','rating_mean']]\n",
    "Ratings = pd.merge(Ratings,Mean,on = 'userId', how = 'left', sort = False)\n",
    "Ratings['rating_adjusted']=Ratings['rating']-Ratings['rating_mean']\n",
    "\n"
   ]
  },
  {
   "cell_type": "code",
   "execution_count": 36,
   "metadata": {
    "collapsed": true
   },
   "outputs": [],
   "source": [
    "distinct_users=np.unique(Ratings['userId'])\n",
    "user_data_append=pd.DataFrame()\n",
    "user_data_all=pd.DataFrame()\n",
    " \n",
    "user1_data= Ratings[Ratings['userId']==320]\n",
    "user1_mean=user1_data[\"rating\"].mean()\n",
    "user1_data=user1_data.rename(columns={'rating_adjusted':'rating_adjusted1'})\n",
    "user1_data=user1_data.rename(columns={'userId':'userId1'})\n",
    "user1_val=np.sqrt(np.sum(np.square(user1_data['rating_adjusted1']), axis=0))"
   ]
  },
  {
   "cell_type": "code",
   "execution_count": 37,
   "metadata": {
    "collapsed": true
   },
   "outputs": [],
   "source": [
    "distinct_movie=np.unique(Ratings['movieId'])"
   ]
  },
  {
   "cell_type": "code",
   "execution_count": 65,
   "metadata": {
    "scrolled": true
   },
   "outputs": [
    {
     "name": "stdout",
     "output_type": "stream",
     "text": [
      "1217\n"
     ]
    }
   ],
   "source": [
    "i=1\n",
    "for movie in distinct_movie[604:605]:\n",
    "    print(movie)\n",
    "    item_user = Ratings[Ratings['movieId']==movie]\n",
    "    distinct_users1=np.unique(item_user['userId'])\n",
    "    j=1\n",
    "    for user2 in distinct_users1:\n",
    "        user2_data= Ratings[Ratings['userId']==user2]\n",
    "        user2_data=user2_data.rename(columns={'rating_adjusted':'rating_adjusted2'})\n",
    "        user2_data=user2_data.rename(columns={'userId':'userId2'})\n",
    "        user2_val=np.sqrt(np.sum(np.square(user2_data['rating_adjusted2']), axis=0))\n",
    "        user_data = pd.merge(user1_data,user2_data[['rating_adjusted2','movieId','userId2']],on = 'movieId', how = 'inner', sort = False)\n",
    "        user_data['vector_product']=(user_data['rating_adjusted1']*user_data['rating_adjusted2'])\n",
    "        user_data= user_data.groupby(['userId1','userId2'], as_index = False, sort = False).sum()\n",
    "        user_data['dot']=user_data['vector_product']/(user1_val*user2_val)\n",
    "        user_data_all = user_data_all.append(user_data, ignore_index=True)\n",
    "        j=j+1\n",
    "        \n",
    "    user_data_all= user_data_all[user_data_all['dot']<1]\n",
    "    user_data_all = user_data_all.sort_values(['dot'], ascending=False)\n",
    "    user_data_all = user_data_all.head(30)\n",
    "    user_data_all['movieId']=movie\n",
    "    user_data_append = user_data_append.append(user_data_all, ignore_index=True)"
   ]
  },
  {
   "cell_type": "code",
   "execution_count": 11,
   "metadata": {
    "collapsed": true
   },
   "outputs": [],
   "source": [
    "positions=[\"Data Scientist\" , \"Software Developer\",\"Full Stack Developer\",\"UI developer\",]"
   ]
  },
  {
   "cell_type": "code",
   "execution_count": 12,
   "metadata": {
    "collapsed": true
   },
   "outputs": [],
   "source": [
    "data=[\"Python\",\"Machine Learning\",\"R\"]\n",
    "software=[\"Java\",\"Python\",]\n",
    "Full=[\"Java Script\",\"HTML\",\"Java\"]\n",
    "UI=[\"HTML\",\"Java Script\",\"Angualar\",\"React\"]"
   ]
  },
  {
   "cell_type": "code",
   "execution_count": 13,
   "metadata": {
    "collapsed": true
   },
   "outputs": [],
   "source": [
    "data_Courses=[\"Natural Language Processing\",\"ML\",\"Image Processing\"]\n",
    "software_Courses=[\"Java\",\"API\"]\n",
    "Full_Courses=[\"Java Script\",\"HTML\",\"Java\"]\n",
    "UI=[\"HTML\",\"Java Script\",\"Angualar\",\"React\",\"CSS\"]"
   ]
  },
  {
   "cell_type": "code",
   "execution_count": 14,
   "metadata": {
    "collapsed": true
   },
   "outputs": [],
   "source": [
    "courses=[data_Courses,software_Courses,Full_Courses,UI]"
   ]
  },
  {
   "cell_type": "code",
   "execution_count": 15,
   "metadata": {
    "collapsed": true
   },
   "outputs": [],
   "source": [
    "Collages=[\"1\",\"2\",\"3\",\"4\",\"5\",\"6\",\"7\",\"8\"]\n",
    "Company=[\"1\",\"2\",\"3\",\"4\",\"5\",\"6\",\"7\",\"8\"]"
   ]
  },
  {
   "cell_type": "code",
   "execution_count": 16,
   "metadata": {},
   "outputs": [],
   "source": [
    "position=random.randint(0,3)"
   ]
  },
  {
   "cell_type": "code",
   "execution_count": null,
   "metadata": {
    "collapsed": true
   },
   "outputs": [],
   "source": [
    "def get_skills(courses,position):\n",
    "    skill_dict={}\n",
    "    for i in range(len(courses)):\n",
    "        if(i==position):\n",
    "            for j in courses[i]:\n",
    "                pro=random.randint(40,100)\n",
    "                if(pro>60):\n",
    "                    skill_dict[j]=pro\n",
    "\n",
    "        else:\n",
    "            for j in courses[i]:\n",
    "                pro=random.randint(0,60)\n",
    "                if(pro>40):\n",
    "                    if(j not in skill_dict.keys() ):\n",
    "                         skill_dict[j]=pro\n",
    "                            \n",
    "        \n",
    "    keys=skill_dict.keys()\n",
    "    values=skill_dict.values()\n",
    "    \n",
    "    skills=[]\n",
    "    for i in range(len(keys)):\n",
    "        skills.append({\"skill\" : keys[i],\"percentage\":str(values[i])+\"%\"})\n",
    "        \n",
    "    return skills"
   ]
  },
  {
   "cell_type": "code",
   "execution_count": 17,
   "metadata": {},
   "outputs": [],
   "source": [
    "skill_dict={}\n",
    "for i in range(len(courses)):\n",
    "    if(i==position):\n",
    "        for j in courses[i]:\n",
    "            pro=random.randint(40,100)\n",
    "            if(pro>60):\n",
    "                skill_dict[j]=pro\n",
    "\n",
    "    else:\n",
    "        for j in courses[i]:\n",
    "            pro=random.randint(0,60)\n",
    "            if(pro>40):\n",
    "                if(j not in skill_dict.keys() ):\n",
    "                     skill_dict[j]=pro\n",
    "\n"
   ]
  },
  {
   "cell_type": "code",
   "execution_count": 18,
   "metadata": {},
   "outputs": [
    {
     "data": {
      "text/plain": [
       "'Full Stack Developer'"
      ]
     },
     "execution_count": 18,
     "metadata": {},
     "output_type": "execute_result"
    }
   ],
   "source": [
    "positions[position]"
   ]
  },
  {
   "cell_type": "code",
   "execution_count": 19,
   "metadata": {},
   "outputs": [
    {
     "data": {
      "text/plain": [
       "{'HTML': 96, 'Java': 100, 'Java Script': 74, 'React': 54}"
      ]
     },
     "execution_count": 19,
     "metadata": {},
     "output_type": "execute_result"
    }
   ],
   "source": [
    "skill_dict"
   ]
  },
  {
   "cell_type": "code",
   "execution_count": 31,
   "metadata": {
    "collapsed": true
   },
   "outputs": [],
   "source": [
    "keys=skill_dict.keys()\n",
    "values=skill_dict.values()\n",
    "\n",
    "skills=[]\n",
    "for i in range(len(keys)):\n",
    "    skills.append({\"skill\" : keys[i],\"percentage\":str(values[i])+\"%\"})"
   ]
  },
  {
   "cell_type": "code",
   "execution_count": 35,
   "metadata": {},
   "outputs": [],
   "source": [
    "skills=[]\n",
    "for i in range(len(keys)):\n",
    "    skills.append({\"skill\" : keys[i],\"percentage\":str(values[i])+\"%\"})"
   ]
  },
  {
   "cell_type": "code",
   "execution_count": 36,
   "metadata": {},
   "outputs": [
    {
     "data": {
      "text/plain": [
       "[{'percentage': '54%', 'skill': 'React'},\n",
       " {'percentage': '74%', 'skill': 'Java Script'},\n",
       " {'percentage': '96%', 'skill': 'HTML'},\n",
       " {'percentage': '100%', 'skill': 'Java'}]"
      ]
     },
     "execution_count": 36,
     "metadata": {},
     "output_type": "execute_result"
    }
   ],
   "source": [
    "skills"
   ]
  },
  {
   "cell_type": "code",
   "execution_count": null,
   "metadata": {
    "collapsed": true
   },
   "outputs": [],
   "source": []
  }
 ],
 "metadata": {
  "kernelspec": {
   "display_name": "Python 2",
   "language": "python",
   "name": "python2"
  },
  "language_info": {
   "codemirror_mode": {
    "name": "ipython",
    "version": 2
   },
   "file_extension": ".py",
   "mimetype": "text/x-python",
   "name": "python",
   "nbconvert_exporter": "python",
   "pygments_lexer": "ipython2",
   "version": "2.7.14"
  }
 },
 "nbformat": 4,
 "nbformat_minor": 2
}
